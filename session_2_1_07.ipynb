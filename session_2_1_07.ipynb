{
 "cells": [
  {
   "cell_type": "markdown",
   "metadata": {},
   "source": [
    "[1,5,6,7,12,14,15,18,19,32,25] listesinin tek elemanlarinin karesini, cift elemanlarinin 2 katini listehalinde donduren while dongusunu yazin"
   ]
  },
  {
   "cell_type": "code",
   "execution_count": 1,
   "metadata": {},
   "outputs": [
    {
     "name": "stdout",
     "output_type": "stream",
     "text": [
      "[1, 25, 12, 49, 24, 28, 225, 36, 361, 64, 625]\n"
     ]
    }
   ],
   "source": [
    "sayilar_listesi = [1,5,6,7,12,14,15,18,19,32,25]\n",
    "\n",
    "x = 0\n",
    "\n",
    "sonuc_listesi = []\n",
    "\n",
    "while x < len(sayilar_listesi):\n",
    "    \n",
    "    if sayilar_listesi[x] % 2 == 1:  # % 2 yazsada aynisi olur\n",
    "        sonuc_listesi.append(sayilar_listesi[x] ** 2)\n",
    "    else:\n",
    "        sonuc_listesi.append(sayilar_listesi[x] * 2)\n",
    "            \n",
    "    x += 1\n",
    "    \n",
    "print(sonuc_listesi)\n"
   ]
  },
  {
   "cell_type": "markdown",
   "metadata": {},
   "source": [
    "## random modulu"
   ]
  },
  {
   "cell_type": "code",
   "execution_count": 2,
   "metadata": {},
   "outputs": [],
   "source": [
    "import random # import ifadesi modulu notebook a aktarmak icin kullanilir"
   ]
  },
  {
   "cell_type": "code",
   "execution_count": 39,
   "metadata": {},
   "outputs": [
    {
     "data": {
      "text/plain": [
       "0.3258066063290723"
      ]
     },
     "execution_count": 39,
     "metadata": {},
     "output_type": "execute_result"
    }
   ],
   "source": [
    "random.random() # 0-1 arasinda rasttgele sayi uretir"
   ]
  },
  {
   "cell_type": "code",
   "execution_count": 44,
   "metadata": {},
   "outputs": [
    {
     "data": {
      "text/plain": [
       "0.6394267984578837"
      ]
     },
     "execution_count": 44,
     "metadata": {},
     "output_type": "execute_result"
    }
   ],
   "source": [
    "random.seed(42) # ortak calismalarda rastgele bir sayi alit ama herkesde ayni deger alinir\n",
    "random.random()"
   ]
  },
  {
   "cell_type": "code",
   "execution_count": 51,
   "metadata": {},
   "outputs": [
    {
     "data": {
      "text/plain": [
       "3"
      ]
     },
     "execution_count": 51,
     "metadata": {},
     "output_type": "execute_result"
    }
   ],
   "source": [
    "random.randint(3,4) # verdigim 2 sayida dahil int sayilar uretit randint = random int gibi dusun"
   ]
  },
  {
   "cell_type": "code",
   "execution_count": 55,
   "metadata": {},
   "outputs": [],
   "source": [
    "liste = [\"murat\", 15, 3.14, \"cenk\", False]"
   ]
  },
  {
   "cell_type": "code",
   "execution_count": 56,
   "metadata": {},
   "outputs": [
    {
     "data": {
      "text/plain": [
       "[False, 'cenk']"
      ]
     },
     "execution_count": 56,
     "metadata": {},
     "output_type": "execute_result"
    }
   ],
   "source": [
    "random.sample(liste,2) # liste den 2 tane rastgele eleman getirir"
   ]
  },
  {
   "cell_type": "code",
   "execution_count": 52,
   "metadata": {},
   "outputs": [
    {
     "data": {
      "text/plain": [
       "[8, 47, 6, 43, 34, 5]"
      ]
     },
     "execution_count": 52,
     "metadata": {},
     "output_type": "execute_result"
    }
   ],
   "source": [
    "random.sample(range(49),6) # 49 a kadar olan sayilardan 6 tane uretir"
   ]
  },
  {
   "cell_type": "code",
   "execution_count": 58,
   "metadata": {},
   "outputs": [
    {
     "name": "stdout",
     "output_type": "stream",
     "text": [
      "Girdiğiniz sayı: 100. Tahminini azalt\n",
      "Girdiğiniz sayı: 50. Tahminini azalt\n",
      "Girdiğiniz sayı: 25. Tahminini azalt\n",
      "Girdiğiniz sayı: 12. Tahminini azalt\n",
      "Girdiğiniz sayı: 6. Tahminini azalt\n",
      "Girdiğiniz sayı: 3. Tahminini arttır\n",
      "Girdiğiniz sayı: 4. Doğru bildiniz. Tebrikler.\n"
     ]
    }
   ],
   "source": [
    "y = True\n",
    "import random\n",
    "\n",
    "aklımdaki_sayı = random.randint(1,100)\n",
    "\n",
    "while y:\n",
    "    \n",
    "    tahmin = int(input(\"1 ile 100 arasında bir sayı tuttum tahmin et. \"))\n",
    "    if aklımdaki_sayı < tahmin:\n",
    "        print(f\"Girdiğiniz sayı: {tahmin}. Tahminini azalt\")\n",
    "        \n",
    "    elif aklımdaki_sayı > tahmin:\n",
    "        print(f\"Girdiğiniz sayı: {tahmin}. Tahminini arttır\")\n",
    "        \n",
    "    else:\n",
    "        print(f\"Girdiğiniz sayı: {tahmin}. Doğru bildiniz. Tebrikler.\")\n",
    "        y = False\n",
    "\n"
   ]
  },
  {
   "cell_type": "markdown",
   "metadata": {},
   "source": [
    "## break, contunie"
   ]
  },
  {
   "cell_type": "code",
   "execution_count": 61,
   "metadata": {},
   "outputs": [
    {
     "name": "stdout",
     "output_type": "stream",
     "text": [
      "Girdiğiniz sayı: 56. Tahminini arttır\n",
      "Girdiğiniz sayı: 75. Tahminini azalt\n",
      "Girdiğiniz sayı: 67. Tahminini arttır\n",
      "Girdiğiniz sayı: 69. Tahminini azalt\n",
      "Girdiğiniz sayı: 68. Doğru bildiniz. Tebrikler.\n"
     ]
    }
   ],
   "source": [
    "import random\n",
    "\n",
    "y = True\n",
    "\n",
    "aklımdaki_sayı = random.randint(1,100)\n",
    "\n",
    "while y:\n",
    "    tahmin = int(input(\"1 ile 100 arasında bir sayı tuttum tahmin et. \"))\n",
    "    if aklımdaki_sayı < tahmin:\n",
    "        print(f\"Girdiğiniz sayı: {tahmin}. Tahminini azalt\")\n",
    "        \n",
    "    elif aklımdaki_sayı > tahmin:\n",
    "        print(f\"Girdiğiniz sayı: {tahmin}. Tahminini arttır\")\n",
    "        \n",
    "    else:\n",
    "        print(f\"Girdiğiniz sayı: {tahmin}. Doğru bildiniz. Tebrikler.\")\n",
    "        break # break ifadesini gorunce donguyu bitirir"
   ]
  },
  {
   "cell_type": "code",
   "execution_count": 63,
   "metadata": {},
   "outputs": [
    {
     "name": "stdout",
     "output_type": "stream",
     "text": [
      "Girdiğiniz sayı: 50. Tahminini azalt.Kalan hakkınız: 4\n",
      "Girdiğiniz sayı: 25. Tahminini azalt.Kalan hakkınız: 3\n",
      "Girdiğiniz sayı: 12. 3 kerede bildiniz. Tebrikler.\n"
     ]
    }
   ],
   "source": [
    "y = True\n",
    "\n",
    "aklımdaki_sayı = random.randint(1,100)\n",
    "\n",
    "sayaç = 0\n",
    "\n",
    "while y:\n",
    "\n",
    "    tahmin = int(input(\"1 ile 100 arasında bir sayı tuttum tahmin et. \"))\n",
    "    sayaç += 1\n",
    "\n",
    "    if aklımdaki_sayı < tahmin:\n",
    "        print(f\"Girdiğiniz sayı: {tahmin}. Tahminini azalt.Kalan hakkınız: {5 - sayaç}\")\n",
    "\n",
    "    elif aklımdaki_sayı > tahmin: \n",
    "        print(f\"Girdiğiniz sayı: {tahmin}. Tahminini arttır.Kalan hakkınız: {5 - sayaç}\")\n",
    "\n",
    "    else:\n",
    "        print(f\"Girdiğiniz sayı: {tahmin}. {sayaç} kerede bildiniz. Tebrikler.\")\n",
    "        break\n",
    "\n",
    "    if sayaç == 5:\n",
    "        break"
   ]
  },
  {
   "cell_type": "markdown",
   "metadata": {},
   "source": [
    "liste = [1, 2, 3, 4, \"Techpro\", 5, 6, 7] # sırayla int değerleri toplayın. str ifadeye denk gelince kod sonlansın"
   ]
  },
  {
   "cell_type": "code",
   "execution_count": 64,
   "metadata": {},
   "outputs": [
    {
     "name": "stdout",
     "output_type": "stream",
     "text": [
      "10\n"
     ]
    }
   ],
   "source": [
    "liste = [1, 2, 3, 4, \"Techpro\", 5, 6, 7]\n",
    "\n",
    "x = 0\n",
    "\n",
    "toplam = 0\n",
    "\n",
    "while x < len(liste):\n",
    "    \n",
    "    if type(liste[x]) == int:\n",
    "        toplam += liste[x]\n",
    "    elif type(liste[x]) == str:\n",
    "        break\n",
    "    \n",
    "    x +=1\n",
    "    \n",
    "print(toplam)\n",
    "\n"
   ]
  },
  {
   "cell_type": "markdown",
   "metadata": {},
   "source": [
    "sirasiyle int ifadeyi toplayin str ifadeye denk gelince o ifadeyi atlayin ve toplamaya devam edin"
   ]
  },
  {
   "cell_type": "code",
   "execution_count": 66,
   "metadata": {},
   "outputs": [
    {
     "ename": "KeyboardInterrupt",
     "evalue": "",
     "output_type": "error",
     "traceback": [
      "\u001b[1;31m---------------------------------------------------------------------------\u001b[0m",
      "\u001b[1;31mKeyboardInterrupt\u001b[0m                         Traceback (most recent call last)",
      "Cell \u001b[1;32mIn[66], line 12\u001b[0m\n\u001b[0;32m     10\u001b[0m     toplam \u001b[38;5;241m+\u001b[39m\u001b[38;5;241m=\u001b[39m liste[x]\n\u001b[0;32m     11\u001b[0m \u001b[38;5;28;01melif\u001b[39;00m \u001b[38;5;28mtype\u001b[39m(liste[x]) \u001b[38;5;241m==\u001b[39m \u001b[38;5;28mstr\u001b[39m:\n\u001b[1;32m---> 12\u001b[0m     \u001b[38;5;28;01mcontinue\u001b[39;00m\n\u001b[0;32m     13\u001b[0m \u001b[38;5;28;01melif\u001b[39;00m \u001b[38;5;28mtype\u001b[39m(liste[x]) \u001b[38;5;241m==\u001b[39m \u001b[38;5;28mint\u001b[39m:\n\u001b[0;32m     14\u001b[0m     toplam \u001b[38;5;241m+\u001b[39m\u001b[38;5;241m=\u001b[39m liste[x]\n",
      "\u001b[1;31mKeyboardInterrupt\u001b[0m: "
     ]
    }
   ],
   "source": [
    "liste = [1, 2, 3, 4, \"Techpro\", 5, 6, 7]\n",
    "\n",
    "x = 0\n",
    "\n",
    "toplam = 0\n",
    "\n",
    "while x < len(liste):\n",
    "    \n",
    "    if type(liste[x]) == int:\n",
    "        toplam += liste[x]\n",
    "    elif type(liste[x]) == str:\n",
    "        continue\n",
    "    elif type(liste[x]) == int:\n",
    "        toplam += liste[x]\n",
    "        \n",
    "    \n",
    "    x +=1\n",
    "    \n",
    "print(toplam)\n",
    "\n"
   ]
  },
  {
   "cell_type": "markdown",
   "metadata": {},
   "source": [
    "# for"
   ]
  },
  {
   "cell_type": "code",
   "execution_count": null,
   "metadata": {},
   "outputs": [],
   "source": [
    "# for dongusu iterable lar ile calisir"
   ]
  },
  {
   "cell_type": "code",
   "execution_count": 68,
   "metadata": {},
   "outputs": [
    {
     "data": {
      "text/plain": [
       "False"
      ]
     },
     "execution_count": 68,
     "metadata": {},
     "output_type": "execute_result"
    }
   ],
   "source": [
    "\"a\" in \"techpro\" # techpro nun icinde a varmi diye sorgular"
   ]
  },
  {
   "cell_type": "code",
   "execution_count": 69,
   "metadata": {},
   "outputs": [
    {
     "data": {
      "text/plain": [
       "True"
      ]
     },
     "execution_count": 69,
     "metadata": {},
     "output_type": "execute_result"
    }
   ],
   "source": [
    "\"e\" in \"techpro\" "
   ]
  },
  {
   "cell_type": "code",
   "execution_count": 67,
   "metadata": {},
   "outputs": [
    {
     "name": "stdout",
     "output_type": "stream",
     "text": [
      "t\n",
      "e\n",
      "c\n",
      "h\n",
      "p\n",
      "r\n",
      "o\n"
     ]
    }
   ],
   "source": [
    "for i in \"techpro\": # burda var mi diye sorgulamaz butun elemanlari aana kadar tek tek sorgular\n",
    "    print(i)"
   ]
  },
  {
   "cell_type": "code",
   "execution_count": 70,
   "metadata": {},
   "outputs": [
    {
     "name": "stdout",
     "output_type": "stream",
     "text": [
      "tt\n",
      "ee\n",
      "cc\n",
      "hh\n",
      "pp\n",
      "rr\n",
      "oo\n"
     ]
    }
   ],
   "source": [
    "for i in \"techpro\": \n",
    "    print(i * 2)"
   ]
  },
  {
   "cell_type": "code",
   "execution_count": 72,
   "metadata": {},
   "outputs": [
    {
     "name": "stdout",
     "output_type": "stream",
     "text": [
      "1\n",
      "4\n",
      "9\n",
      "16\n",
      "25\n"
     ]
    }
   ],
   "source": [
    "liste_2 = [1,2,3,4,5]\n",
    "\n",
    "for i in liste_2:\n",
    "    print(i ** 2)"
   ]
  },
  {
   "cell_type": "code",
   "execution_count": 73,
   "metadata": {},
   "outputs": [
    {
     "name": "stdout",
     "output_type": "stream",
     "text": [
      "1\n",
      "4\n",
      "9\n",
      "16\n",
      "25\n"
     ]
    }
   ],
   "source": [
    "x = 0\n",
    "\n",
    "while x < len(liste_2):\n",
    "    print(liste_2[x] ** 2)\n",
    "    x +=1"
   ]
  },
  {
   "cell_type": "code",
   "execution_count": 77,
   "metadata": {},
   "outputs": [
    {
     "name": "stdout",
     "output_type": "stream",
     "text": [
      "1 sayinin karesi:1\n",
      "2 sayinin karesi:4\n",
      "3 sayinin karesi:9\n",
      "4 sayinin karesi:16\n",
      "5 sayinin karesi:25\n"
     ]
    }
   ],
   "source": [
    "tuple_1 = (1,2,3,4,5)\n",
    "\n",
    "for i in tuple_1:\n",
    "     print(f\"{i} sayinin karesi:{i ** 2}\")\n",
    "    "
   ]
  },
  {
   "cell_type": "code",
   "execution_count": 80,
   "metadata": {},
   "outputs": [
    {
     "name": "stdout",
     "output_type": "stream",
     "text": [
      "['Ahmet', 'Bahar', 'Hakan', 'Hamdi']\n"
     ]
    }
   ],
   "source": [
    "isimler_listesi = [\"ahmet\",\"bahar\",\"hakan\",\"hamdi\"]\n",
    "\n",
    "duzenlenmis_liste = []\n",
    "\n",
    "for i in isimler_listesi:\n",
    "    duzenlenmis_liste.append(i.capitalize())\n",
    "    \n",
    "print(duzenlenmis_liste)"
   ]
  },
  {
   "cell_type": "code",
   "execution_count": null,
   "metadata": {},
   "outputs": [],
   "source": [
    "\"Techpro\" >>>> \"T-e-c-h-p-r-o\""
   ]
  },
  {
   "cell_type": "code",
   "execution_count": 82,
   "metadata": {},
   "outputs": [
    {
     "name": "stdout",
     "output_type": "stream",
     "text": [
      "T-e-c-h-p-r-o\n"
     ]
    }
   ],
   "source": [
    "\n",
    "new_str = \"\"\n",
    "\n",
    "for i in \"Techpro\":\n",
    "    new_str += i + \"-\"\n",
    " \n",
    "print(new_str.rstrip(\"-\"))    \n",
    "     "
   ]
  },
  {
   "cell_type": "markdown",
   "metadata": {},
   "source": [
    "## min(), max()"
   ]
  },
  {
   "cell_type": "code",
   "execution_count": 83,
   "metadata": {},
   "outputs": [],
   "source": [
    "liste_3 = [2, 5, 1, 3, 9, 4, 6, 8, 15, 48, 256]"
   ]
  },
  {
   "cell_type": "code",
   "execution_count": 84,
   "metadata": {},
   "outputs": [
    {
     "data": {
      "text/plain": [
       "1"
      ]
     },
     "execution_count": 84,
     "metadata": {},
     "output_type": "execute_result"
    }
   ],
   "source": [
    "min(liste_3) # minumum u getirir"
   ]
  },
  {
   "cell_type": "code",
   "execution_count": 85,
   "metadata": {},
   "outputs": [
    {
     "data": {
      "text/plain": [
       "256"
      ]
     },
     "execution_count": 85,
     "metadata": {},
     "output_type": "execute_result"
    }
   ],
   "source": [
    "max(liste_3) # max degeri bulur"
   ]
  },
  {
   "cell_type": "code",
   "execution_count": 87,
   "metadata": {},
   "outputs": [
    {
     "data": {
      "text/plain": [
       "'cenk'"
      ]
     },
     "execution_count": 87,
     "metadata": {},
     "output_type": "execute_result"
    }
   ],
   "source": [
    "min([\"hakan\",\"cenk\",\"yasin\"]) # ASCII koduna gore min i alir"
   ]
  },
  {
   "cell_type": "markdown",
   "metadata": {},
   "source": [
    "liste_1 = [4,5,6,9,85,23,65,47,32,91] listenin en küçük ve en büyük elemanını min ve max fpnksiyonu kullanmadan bulun. sort fonk da kullanmayın. while ile min değeri for ile max değeri bulun."
   ]
  },
  {
   "cell_type": "code",
   "execution_count": null,
   "metadata": {},
   "outputs": [],
   "source": []
  }
 ],
 "metadata": {
  "kernelspec": {
   "display_name": "Python 3",
   "language": "python",
   "name": "python3"
  },
  "language_info": {
   "codemirror_mode": {
    "name": "ipython",
    "version": 3
   },
   "file_extension": ".py",
   "mimetype": "text/x-python",
   "name": "python",
   "nbconvert_exporter": "python",
   "pygments_lexer": "ipython3",
   "version": "3.12.3"
  }
 },
 "nbformat": 4,
 "nbformat_minor": 2
}
